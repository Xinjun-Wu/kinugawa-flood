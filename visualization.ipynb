{
 "cells": [
  {
   "cell_type": "markdown",
   "metadata": {},
   "source": [
    "# Visualization for Train and Test Results"
   ]
  },
  {
   "cell_type": "code",
   "execution_count": null,
   "metadata": {},
   "outputs": [],
   "source": [
    "import numpy as np \n",
    "import pandas as pd \n",
    "import matplotlib.pyplot as plt\n",
    "import plotly.graph_objects as go\n",
    "from plotly.subplots import make_subplots\n",
    "import plotly.express as px\n",
    "import plotly\n",
    "%matplotlib inline"
   ]
  },
  {
   "cell_type": "code",
   "execution_count": null,
   "metadata": {},
   "outputs": [],
   "source": [
    "def interactive_plot(STEP,train_PATH,test_PATH):\n",
    "\n",
    "    laylout = go.Layout(height=400,width=600)\n",
    "\n",
    "    train_df = pd.read_csv(train_PATH, skiprows=1,index_col=0)\n",
    "    test_df = pd.read_csv(test_PATH, skiprows=0,index_col=0)\n",
    "    train_fig = make_subplots(\n",
    "                        rows=2,cols=1,\n",
    "                        subplot_titles=(f'Train vs Validation on Hour {int(STEP/6)}',),\n",
    "                        row_titles=['Loss','LR'],\n",
    "                        vertical_spacing=0.07,\n",
    "                        x_title='EPOCH',\n",
    "                        )\n",
    "    #train_fig.update_layout(laylout)\n",
    "    train_fig.add_trace(go.Scatter(y=train_df['Train Loss'], x=train_df[\"Epoch\"],name='Train Loss'),1,1,)\n",
    "    train_fig.add_trace(go.Scatter(y=train_df['Validation Loss'], x=train_df[\"Epoch\"],name='Val Loss'),1,1)\n",
    "    train_fig.add_trace(go.Scatter(y=train_df['LR'], x=train_df[\"Epoch\"],name='LR'),2,1)\n",
    "    train_fig.show()\n",
    "    test_fig = px.line(test_df, x=test_df['EPOCH'], y=[i for i in test_df.columns ],title='Test Loss')\n",
    "    test_fig.show()"
   ]
  },
  {
   "cell_type": "markdown",
   "metadata": {},
   "source": [
    "## 01 Visualization "
   ]
  },
  {
   "cell_type": "markdown",
   "metadata": {},
   "source": [
    "### 1 HOUR"
   ]
  },
  {
   "cell_type": "code",
   "execution_count": null,
   "metadata": {},
   "outputs": [],
   "source": [
    "BPNAME = 'BP028'\n",
    "STEP = 6\n",
    "EPOCH = 1\n",
    "MODEL_VERSION = 1\n",
    "train_PATH = f'../Save/Master Branch/TrainResults/{BPNAME}/Step_{STEP}/recorder/recorder_V{MODEL_VERSION}_epoch_{EPOCH}.csv'\n",
    "test_PATH = f'../Save/Master Branch/TestResults/{BPNAME}/Step_{STEP}/model_V{MODEL_VERSION} test loss.csv'\n",
    "interactive_plot(STEP,train_PATH,test_PATH)"
   ]
  },
  {
   "cell_type": "code",
   "execution_count": null,
   "metadata": {
    "tags": []
   },
   "outputs": [],
   "source": [
    "#选择合适的epoch\n",
    "ONE_hour_epoch = 1\n",
    "Test_case = 'case10'\n",
    "Test_case_output = f\"../Save/Master Branch/TestResults/{BPNAME}/Step_{STEP}/model_V{MODEL_VERSION}_epoch_{ONE_hour_epoch}/{Test_case}/image/\"\n",
    "print(\"***** Paste the below lines in next cell and run it ******\")\n",
    "print(f\"!python result_output.py {BPNAME} {STEP} {MODEL_VERSION} {ONE_hour_epoch} {Test_case} \\r\\n!start {Test_case_output}\" )"
   ]
  },
  {
   "cell_type": "code",
   "execution_count": null,
   "metadata": {
    "tags": []
   },
   "outputs": [],
   "source": [
    "#output the results of selected case\n",
    "!python result_output.py BP028 6 1 1 case10 "
   ]
  },
  {
   "cell_type": "code",
   "execution_count": null,
   "metadata": {},
   "outputs": [],
   "source": [
    "#open the folder\n",
    "!start F:/ArcGIS/Flood/kinugawa/Save/BP028/Step_6/test/model_V1_epoch_1/case10/image/"
   ]
  },
  {
   "cell_type": "code",
   "execution_count": null,
   "metadata": {},
   "outputs": [],
   "source": [
    "### 2 HOUR"
   ]
  },
  {
   "cell_type": "code",
   "execution_count": null,
   "metadata": {},
   "outputs": [],
   "source": [
    "BPNAME = 'BP120'\n",
    "STEP = 12\n",
    "EPOCH = 1000\n",
    "MODEL_VERSION = 1\n",
    "train_PATH = f'../Save/{BPNAME}/Step_{STEP}/recorder/recorder_V{MODEL_VERSION}_epoch_{EPOCH}.csv'\n",
    "test_PATH = f'../Save/{BPNAME}/Step_{STEP}/test/model_V{MODEL_VERSION} test loss.csv'\n",
    "interactive_plot(STEP,train_PATH,test_PATH)"
   ]
  },
  {
   "cell_type": "code",
   "execution_count": null,
   "metadata": {},
   "outputs": [],
   "source": [
    "#选择合适的epoch\n",
    "TWO_hour_epoch = 1\n",
    "Test_case = 'case10'\n",
    "Test_case_output = f\"F:/ArcGIS/Flood/kinugawa/Save/{BPNAME}/Step_{STEP}/test/model_V{MODEL_VERSION}_epoch_{ONE_hour_epoch}/{Test_case}/image/\"\n",
    "print(\"***** Paste the below lines in next cell and run it ******\")\n",
    "print(f\"!python result_output.py {BPNAME} {STEP} {MODEL_VERSION} {TWO_hour_epoch} {Test_case} \\r\\n!start {Test_case_output}\" )"
   ]
  },
  {
   "cell_type": "code",
   "execution_count": null,
   "metadata": {},
   "outputs": [],
   "source": [
    "#output the results of selected case\n",
    "!python result_output.py BP028 6 1 1 case10 "
   ]
  },
  {
   "cell_type": "code",
   "execution_count": null,
   "metadata": {},
   "outputs": [],
   "source": [
    "#open the folder\n",
    "!start F:/ArcGIS/Flood/kinugawa/Save/BP028/Step_6/test/model_V1_epoch_1/case10/image/"
   ]
  },
  {
   "cell_type": "code",
   "execution_count": null,
   "metadata": {},
   "outputs": [],
   "source": [
    "### 3 HOUR"
   ]
  },
  {
   "cell_type": "code",
   "execution_count": null,
   "metadata": {},
   "outputs": [],
   "source": [
    "BPNAME = 'BP028'\n",
    "STEP = 18\n",
    "EPOCH = 1000\n",
    "MODEL_VERSION = 1\n",
    "train_PATH = f'../Save/{BPNAME}/Step_{STEP}/recorder/recorder_V{MODEL_VERSION}_epoch_{EPOCH}.csv'\n",
    "test_PATH = f'../Save/{BPNAME}/Step_{STEP}/test/model_V{MODEL_VERSION} test loss.csv'\n",
    "interactive_plot(STEP,train_PATH,test_PATH)"
   ]
  },
  {
   "cell_type": "code",
   "execution_count": null,
   "metadata": {},
   "outputs": [],
   "source": [
    "#选择合适的epoch\n",
    "THREE_hour_epoch = 1\n",
    "Test_case = 'case10'\n",
    "Test_case_output = f\"F:/ArcGIS/Flood/kinugawa/Save/{BPNAME}/Step_{STEP}/test/model_V{MODEL_VERSION}_epoch_{ONE_hour_epoch}/{Test_case}/image/\"\n",
    "print(\"***** Paste the below lines in next cell and run it ******\")\n",
    "print(f\"!python result_output.py {BPNAME} {STEP} {MODEL_VERSION} {THREE_hour_epoch} {Test_case} \\r\\n!start {Test_case_output}\" )"
   ]
  },
  {
   "cell_type": "code",
   "execution_count": null,
   "metadata": {},
   "outputs": [],
   "source": [
    "#output the results of selected case\n",
    "!python result_output.py BP028 6 1 1 case10 "
   ]
  },
  {
   "cell_type": "code",
   "execution_count": null,
   "metadata": {},
   "outputs": [],
   "source": [
    "#open the folder\n",
    "!start F:/ArcGIS/Flood/kinugawa/Save/BP028/Step_6/test/model_V1_epoch_1/case10/image/"
   ]
  },
  {
   "cell_type": "code",
   "execution_count": null,
   "metadata": {},
   "outputs": [],
   "source": [
    "### 4 HOUR"
   ]
  },
  {
   "cell_type": "code",
   "execution_count": null,
   "metadata": {},
   "outputs": [],
   "source": [
    "BPNAME = 'BP028'\n",
    "STEP = 24\n",
    "EPOCH = 1000\n",
    "MODEL_VERSION = 1\n",
    "train_PATH = f'../Save/{BPNAME}/Step_{STEP}/recorder/recorder_V{MODEL_VERSION}_epoch_{EPOCH}.csv'\n",
    "test_PATH = f'../Save/{BPNAME}/Step_{STEP}/test/model_V{MODEL_VERSION} test loss.csv'\n",
    "interactive_plot(STEP,train_PATH,test_PATH)"
   ]
  },
  {
   "cell_type": "code",
   "execution_count": null,
   "metadata": {},
   "outputs": [],
   "source": [
    "#选择合适的epoch\n",
    "FOUR_hour_epoch = 1\n",
    "Test_case = 'case10'\n",
    "Test_case_output = f\"F:/ArcGIS/Flood/kinugawa/Save/{BPNAME}/Step_{STEP}/test/model_V{MODEL_VERSION}_epoch_{ONE_hour_epoch}/{Test_case}/image/\"\n",
    "print(\"***** Paste the below lines in next cell and run it ******\")\n",
    "print(f\"!python result_output.py {BPNAME} {STEP} {MODEL_VERSION} {FOUR_hour_epoch} {Test_case} \\r\\n!start {Test_case_output}\" )"
   ]
  },
  {
   "cell_type": "code",
   "execution_count": null,
   "metadata": {},
   "outputs": [],
   "source": [
    "#output the results of selected case\n",
    "!python result_output.py BP028 6 1 1 case10 "
   ]
  },
  {
   "cell_type": "code",
   "execution_count": null,
   "metadata": {},
   "outputs": [],
   "source": [
    "#open the folder\n",
    "!start F:/ArcGIS/Flood/kinugawa/Save/BP028/Step_6/test/model_V1_epoch_1/case10/image/"
   ]
  },
  {
   "cell_type": "code",
   "execution_count": null,
   "metadata": {},
   "outputs": [],
   "source": [
    "### 5 HOUR"
   ]
  },
  {
   "cell_type": "code",
   "execution_count": null,
   "metadata": {},
   "outputs": [],
   "source": [
    "BPNAME = 'BP028'\n",
    "STEP = 30\n",
    "EPOCH = 1000\n",
    "MODEL_VERSION = 1\n",
    "train_PATH = f'../Save/{BPNAME}/Step_{STEP}/recorder/recorder_V{MODEL_VERSION}_epoch_{EPOCH}.csv'\n",
    "test_PATH = f'../Save/{BPNAME}/Step_{STEP}/test/model_V{MODEL_VERSION} test loss.csv'\n",
    "interactive_plot(STEP,train_PATH,test_PATH)"
   ]
  },
  {
   "cell_type": "code",
   "execution_count": null,
   "metadata": {},
   "outputs": [],
   "source": [
    "#选择合适的epoch\n",
    "FIVE_hour_epoch = 1\n",
    "Test_case = 'case10'\n",
    "Test_case_output = f\"F:/ArcGIS/Flood/kinugawa/Save/{BPNAME}/Step_{STEP}/test/model_V{MODEL_VERSION}_epoch_{ONE_hour_epoch}/{Test_case}/image/\"\n",
    "print(\"***** Paste the below lines in next cell and run it ******\")\n",
    "print(f\"!python result_output.py {BPNAME} {STEP} {MODEL_VERSION} {FIVE_hour_epoch} {Test_case} \\r\\n!start {Test_case_output}\" )"
   ]
  },
  {
   "cell_type": "code",
   "execution_count": null,
   "metadata": {},
   "outputs": [],
   "source": [
    "#output the results of selected case\n",
    "!python result_output.py BP028 6 1 1 case10 "
   ]
  },
  {
   "cell_type": "code",
   "execution_count": null,
   "metadata": {},
   "outputs": [],
   "source": [
    "#open the folder\n",
    "!start F:/ArcGIS/Flood/kinugawa/Save/BP028/Step_6/test/model_V1_epoch_1/case10/image/"
   ]
  },
  {
   "cell_type": "code",
   "execution_count": null,
   "metadata": {},
   "outputs": [],
   "source": [
    "### 6 HOUR"
   ]
  },
  {
   "cell_type": "code",
   "execution_count": null,
   "metadata": {},
   "outputs": [],
   "source": [
    "BPNAME = 'BP028'\n",
    "STEP = 36\n",
    "EPOCH = 1000\n",
    "MODEL_VERSION = 1\n",
    "train_PATH = f'../Save/{BPNAME}/Step_{STEP}/recorder/recorder_V{MODEL_VERSION}_epoch_{EPOCH}.csv'\n",
    "test_PATH = f'../Save/{BPNAME}/Step_{STEP}/test/model_V{MODEL_VERSION} test loss.csv'\n",
    "interactive_plot(STEP,train_PATH,test_PATH)"
   ]
  },
  {
   "cell_type": "code",
   "execution_count": null,
   "metadata": {},
   "outputs": [],
   "source": [
    "#选择合适的epoch\n",
    "SIX_hour_epoch = 1\n",
    "Test_case = 'case10'\n",
    "Test_case_output = f\"F:/ArcGIS/Flood/kinugawa/Save/{BPNAME}/Step_{STEP}/test/model_V{MODEL_VERSION}_epoch_{ONE_hour_epoch}/{Test_case}/image/\"\n",
    "print(\"***** Paste the below lines in next cell and run it ******\")\n",
    "print(f\"!python result_output.py {BPNAME} {STEP} {MODEL_VERSION} {SIX_hour_epoch} {Test_case} \\r\\n!start {Test_case_output}\" )"
   ]
  },
  {
   "cell_type": "code",
   "execution_count": null,
   "metadata": {},
   "outputs": [],
   "source": [
    "#output the results of selected case\n",
    "!python result_output.py BP028 6 1 1 case10 "
   ]
  },
  {
   "cell_type": "code",
   "execution_count": null,
   "metadata": {},
   "outputs": [],
   "source": [
    "#open the folder\n",
    "!start F:/ArcGIS/Flood/kinugawa/Save/BP028/Step_6/test/model_V1_epoch_1/case10/image/"
   ]
  },
  {
   "cell_type": "code",
   "execution_count": 1,
   "metadata": {},
   "outputs": [],
   "source": []
  },
  {
   "cell_type": "code",
   "execution_count": null,
   "metadata": {},
   "outputs": [],
   "source": []
  }
 ],
 "metadata": {
  "kernelspec": {
   "display_name": "Python 3.7.6 64-bit ('pytorch': conda)",
   "language": "python",
   "name": "python37664bitpytorchcondaf146bcb065ad47c49cbbeb41d43dfb81"
  },
  "language_info": {
   "codemirror_mode": {
    "name": "ipython",
    "version": 3
   },
   "file_extension": ".py",
   "mimetype": "text/x-python",
   "name": "python",
   "nbconvert_exporter": "python",
   "pygments_lexer": "ipython3",
   "version": "3.8.5"
  }
 },
 "nbformat": 4,
 "nbformat_minor": 4
}
