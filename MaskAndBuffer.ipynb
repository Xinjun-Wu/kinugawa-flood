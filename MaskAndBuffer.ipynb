{
 "cells": [
  {
   "cell_type": "code",
   "execution_count": 22,
   "metadata": {},
   "outputs": [],
   "source": [
    "import numpy as np\n",
    "import numpy.ma as ma\n",
    "import torch"
   ]
  },
  {
   "cell_type": "code",
   "execution_count": 23,
   "metadata": {},
   "outputs": [],
   "source": [
    "data_a = np.array([[0,0,0],[10.2,0.1,0.1],[0,0,0]])\n",
    "data_b = np.array([[0.1,0.1,0.1],[0.1,0.1,0.1],[0.1,0.1,0.1]])"
   ]
  },
  {
   "cell_type": "code",
   "execution_count": 24,
   "metadata": {},
   "outputs": [
    {
     "output_type": "execute_result",
     "data": {
      "text/plain": [
       "masked_array(\n",
       "  data=[[--, --, --],\n",
       "        [10.2, 0.1, 0.1],\n",
       "        [--, --, --]],\n",
       "  mask=[[ True,  True,  True],\n",
       "        [False, False, False],\n",
       "        [ True,  True,  True]],\n",
       "  fill_value=0.0)"
      ]
     },
     "metadata": {},
     "execution_count": 24
    }
   ],
   "source": [
    "masked_a = ma.masked_equal(data_a,0)\n",
    "masked_a"
   ]
  },
  {
   "cell_type": "code",
   "execution_count": 25,
   "metadata": {},
   "outputs": [
    {
     "output_type": "execute_result",
     "data": {
      "text/plain": [
       "masked_array(\n",
       "  data=[[--, --, --],\n",
       "        [0.1, 0.1, 0.1],\n",
       "        [--, --, --]],\n",
       "  mask=[[ True,  True,  True],\n",
       "        [False, False, False],\n",
       "        [ True,  True,  True]],\n",
       "  fill_value=0.0)"
      ]
     },
     "metadata": {},
     "execution_count": 25
    }
   ],
   "source": [
    "masked_b = ma.masked_array(data_b,masked_a.mask,fill_value = 0)\n",
    "masked_b"
   ]
  },
  {
   "cell_type": "code",
   "execution_count": 26,
   "metadata": {},
   "outputs": [
    {
     "output_type": "execute_result",
     "data": {
      "text/plain": [
       "array([[0. , 0. , 0. ],\n",
       "       [0.1, 0.1, 0.1],\n",
       "       [0. , 0. , 0. ]])"
      ]
     },
     "metadata": {},
     "execution_count": 26
    }
   ],
   "source": [
    "masked_b.filled()"
   ]
  },
  {
   "cell_type": "code",
   "execution_count": 27,
   "metadata": {},
   "outputs": [],
   "source": [
    "z = masked_a.mask"
   ]
  },
  {
   "cell_type": "code",
   "execution_count": 28,
   "metadata": {},
   "outputs": [],
   "source": [
    " (n_i, n_j) = z.shape\n"
   ]
  },
  {
   "cell_type": "code",
   "execution_count": 29,
   "metadata": {},
   "outputs": [
    {
     "output_type": "stream",
     "name": "stdout",
     "text": [
      "False\nFalse\nFalse\n"
     ]
    }
   ],
   "source": [
    "for i in range(n_i):\n",
    "    for j in range(n_j):\n",
    "        if z[i,j] == False:\n",
    "            print(z[i,j])"
   ]
  },
  {
   "cell_type": "code",
   "execution_count": 30,
   "metadata": {},
   "outputs": [],
   "source": [
    "to = torch.tensor(masked_b)"
   ]
  },
  {
   "cell_type": "code",
   "execution_count": 31,
   "metadata": {},
   "outputs": [
    {
     "output_type": "execute_result",
     "data": {
      "text/plain": [
       "tensor([[0.1000, 0.1000, 0.1000],\n",
       "        [0.1000, 0.1000, 0.1000],\n",
       "        [0.1000, 0.1000, 0.1000]], dtype=torch.float64)"
      ]
     },
     "metadata": {},
     "execution_count": 31
    }
   ],
   "source": [
    "to"
   ]
  },
  {
   "cell_type": "code",
   "execution_count": 32,
   "metadata": {},
   "outputs": [],
   "source": [
    "def search_edge(input,output,point_i,point_j, height, width):\n",
    "    #识别边缘的点，并将缓冲区域内的点值更改为False\n",
    "    if point_i - height < 0:\n",
    "        start_i = 0\n",
    "    else:\n",
    "        start_i = point_i - height\n",
    "    if point_j - width < 0:\n",
    "        start_j = 0\n",
    "    else:\n",
    "        start_j = point_j - width\n",
    "    if point_i + height+1 >= input.shape[0]:\n",
    "        end_i = -1\n",
    "    else:\n",
    "        end_i =  point_i + height+1\n",
    "    if point_j + width+1 >= input.shape[1]:\n",
    "        end_j = -1\n",
    "    else:\n",
    "        end_j =point_j + width+1\n",
    "    output[point_i,point_j] = input[start_i:end_i,start_j:end_j].all()\n",
    "    \n",
    "def mask_buffer(input_mask,height,width):\n",
    "    #根据原始mask的边缘，通过缓冲区创建更大大的mask\n",
    "    output_mask = input_mask.copy()\n",
    "    for i in range(input_mask.shape[0]):\n",
    "        for j in range(input_mask.shape[1]):\n",
    "            search_edge(input_mask,output_mask,i,j,height,width)\n",
    "    return output_mask\n",
    "\n",
    "def area_extract(target_area, extract_area, buffer_height,buffer_width):\n",
    "    #通过目标区域的buffered mask 提取下一时刻的研究区域\n",
    "    #目标区域的掩码识别值为0，当值为0时，掩码值为True.否则为False\n",
    "    #buffer 方式为矩形buffer,根据每一个边缘点的矩形范围创建buffer\n",
    "    target_masked = ma.masked_equal(target_area,0)\n",
    "    input_mask = target_masked.mask\n",
    "    buffered_mask = mask_buffer(input_mask,buffer_height,buffer_width)\n",
    "    extracted_area = ma.masked_array(extract_area, buffered_mask, fill_value = 0)\n",
    "    extracted_area = extracted_area.filled()\n",
    "    return extracted_area\n",
    "    "
   ]
  },
  {
   "cell_type": "code",
   "execution_count": 33,
   "metadata": {},
   "outputs": [
    {
     "output_type": "execute_result",
     "data": {
      "text/plain": [
       "tensor([[0., 0., 0., 0., 0., 0., 0., 0., 0., 0.],\n",
       "        [0., 0., 0., 0., 0., 0., 0., 0., 0., 0.],\n",
       "        [0., 0., 0., 0., 0., 0., 0., 0., 0., 0.],\n",
       "        [0., 0., 0., 0., 0., 0., 0., 0., 0., 0.],\n",
       "        [0., 0., 0., 5., 5., 5., 5., 0., 0., 0.],\n",
       "        [0., 0., 0., 5., 5., 5., 5., 0., 0., 0.],\n",
       "        [0., 0., 0., 0., 0., 0., 0., 0., 0., 0.],\n",
       "        [0., 0., 0., 0., 0., 0., 0., 0., 0., 0.],\n",
       "        [0., 0., 0., 0., 0., 0., 0., 0., 0., 0.],\n",
       "        [0., 0., 0., 0., 0., 0., 0., 0., 0., 0.]])"
      ]
     },
     "metadata": {},
     "execution_count": 33
    }
   ],
   "source": [
    "a = torch.zeros((10,10))\n",
    "a[4:6,3:7] = 5\n",
    "a"
   ]
  },
  {
   "cell_type": "code",
   "execution_count": 34,
   "metadata": {},
   "outputs": [
    {
     "output_type": "execute_result",
     "data": {
      "text/plain": [
       "tensor([[1., 1., 1., 1., 1., 1., 1., 1., 1., 1.],\n",
       "        [1., 1., 1., 1., 1., 1., 1., 1., 1., 1.],\n",
       "        [1., 1., 1., 1., 1., 1., 1., 1., 1., 1.],\n",
       "        [1., 1., 1., 1., 1., 1., 1., 1., 1., 1.],\n",
       "        [1., 1., 1., 1., 1., 1., 1., 1., 1., 1.],\n",
       "        [1., 1., 1., 1., 1., 1., 1., 1., 1., 1.],\n",
       "        [1., 1., 1., 1., 1., 1., 1., 1., 1., 1.],\n",
       "        [1., 1., 1., 1., 1., 1., 1., 1., 1., 1.],\n",
       "        [1., 1., 1., 1., 1., 1., 1., 1., 1., 1.],\n",
       "        [1., 1., 1., 1., 1., 1., 1., 1., 1., 1.]])"
      ]
     },
     "metadata": {},
     "execution_count": 34
    }
   ],
   "source": [
    "b = torch.ones((10,10))\n",
    "b"
   ]
  },
  {
   "cell_type": "code",
   "execution_count": 35,
   "metadata": {},
   "outputs": [
    {
     "output_type": "execute_result",
     "data": {
      "text/plain": [
       "array([[0., 0., 0., 0., 0., 0., 0., 0., 0., 0.],\n",
       "       [0., 0., 0., 0., 0., 0., 0., 0., 0., 0.],\n",
       "       [0., 0., 0., 0., 0., 0., 0., 0., 0., 0.],\n",
       "       [0., 0., 1., 1., 1., 1., 1., 1., 0., 0.],\n",
       "       [0., 0., 1., 1., 1., 1., 1., 1., 0., 0.],\n",
       "       [0., 0., 1., 1., 1., 1., 1., 1., 0., 0.],\n",
       "       [0., 0., 1., 1., 1., 1., 1., 1., 0., 0.],\n",
       "       [0., 0., 0., 0., 0., 0., 0., 0., 0., 0.],\n",
       "       [0., 0., 0., 0., 0., 0., 0., 0., 0., 0.],\n",
       "       [0., 0., 0., 0., 0., 0., 0., 0., 0., 0.]], dtype=float32)"
      ]
     },
     "metadata": {},
     "execution_count": 35
    }
   ],
   "source": [
    "b_ = area_extract(a,b,1,1)\n",
    "b_"
   ]
  },
  {
   "cell_type": "code",
   "execution_count": null,
   "metadata": {},
   "outputs": [],
   "source": []
  },
  {
   "cell_type": "code",
   "execution_count": 15,
   "metadata": {},
   "outputs": [],
   "source": [
    "import numpy as np"
   ]
  },
  {
   "cell_type": "code",
   "execution_count": 16,
   "metadata": {},
   "outputs": [],
   "source": [
    "a = np.array([1,2,3,4])"
   ]
  },
  {
   "cell_type": "code",
   "execution_count": 17,
   "metadata": {},
   "outputs": [],
   "source": [
    "a = a.reshape(2,2)"
   ]
  },
  {
   "cell_type": "code",
   "execution_count": 18,
   "metadata": {},
   "outputs": [
    {
     "output_type": "execute_result",
     "data": {
      "text/plain": [
       "array([[1, 2],\n",
       "       [3, 4]])"
      ]
     },
     "metadata": {},
     "execution_count": 18
    }
   ],
   "source": [
    "a"
   ]
  },
  {
   "cell_type": "code",
   "execution_count": 19,
   "metadata": {},
   "outputs": [],
   "source": [
    "b = np.tile(a,(3,1,1,1))"
   ]
  },
  {
   "cell_type": "code",
   "execution_count": 20,
   "metadata": {},
   "outputs": [
    {
     "output_type": "execute_result",
     "data": {
      "text/plain": [
       "array([[[[1, 2],\n",
       "         [3, 4]]],\n",
       "\n",
       "\n",
       "       [[[1, 2],\n",
       "         [3, 4]]],\n",
       "\n",
       "\n",
       "       [[[1, 2],\n",
       "         [3, 4]]]])"
      ]
     },
     "metadata": {},
     "execution_count": 20
    }
   ],
   "source": [
    "b"
   ]
  },
  {
   "cell_type": "code",
   "execution_count": 21,
   "metadata": {},
   "outputs": [
    {
     "output_type": "execute_result",
     "data": {
      "text/plain": [
       "(3, 1, 2, 2)"
      ]
     },
     "metadata": {},
     "execution_count": 21
    }
   ],
   "source": [
    "b.shape"
   ]
  },
  {
   "cell_type": "code",
   "execution_count": null,
   "metadata": {},
   "outputs": [],
   "source": []
  }
 ],
 "metadata": {
  "kernelspec": {
   "name": "python3",
   "display_name": "Python 3.7.6 64-bit (conda)",
   "metadata": {
    "interpreter": {
     "hash": "b39d64dbacb610bc6edf723f4319bf962346896d77ff480b2605660c79e4593c"
    }
   }
  },
  "language_info": {
   "codemirror_mode": {
    "name": "ipython",
    "version": 3
   },
   "file_extension": ".py",
   "mimetype": "text/x-python",
   "name": "python",
   "nbconvert_exporter": "python",
   "pygments_lexer": "ipython3",
   "version": "3.7.6-final"
  }
 },
 "nbformat": 4,
 "nbformat_minor": 4
}